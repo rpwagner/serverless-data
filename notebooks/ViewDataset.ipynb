{
 "cells": [
  {
   "cell_type": "code",
   "execution_count": 1,
   "id": "59dd496f-fb04-4256-9713-9653881e3162",
   "metadata": {},
   "outputs": [
    {
     "data": {
      "application/vnd.jupyter.widget-view+json": {
       "model_id": "ea439a2fb0ab43a697394ef6e6df971b",
       "version_major": 2,
       "version_minor": 0
      },
      "text/plain": [
       "Dropdown(description='Select dataset:', options=(('Kyle: FOGGER953', ('Kyle', 'FOGGER953')), ('Kyle: BAHMANI17…"
      ]
     },
     "metadata": {},
     "output_type": "display_data"
    },
    {
     "data": {
      "application/vnd.jupyter.widget-view+json": {
       "model_id": "9b9f735edacf414dbe39539d3f2b6ee7",
       "version_major": 2,
       "version_minor": 0
      },
      "text/plain": [
       "Button(description='Get selected dataset', style=ButtonStyle())"
      ]
     },
     "metadata": {},
     "output_type": "display_data"
    },
    {
     "data": {
      "application/vnd.jupyter.widget-view+json": {
       "model_id": "272519c927fc4b8695cbbda1c0d98fb2",
       "version_major": 2,
       "version_minor": 0
      },
      "text/plain": [
       "Output()"
      ]
     },
     "metadata": {},
     "output_type": "display_data"
    }
   ],
   "source": [
    "from render_dataset import dataset_picker, display_active_dataset\n",
    "dataset_picker()"
   ]
  },
  {
   "cell_type": "code",
   "execution_count": 2,
   "id": "3da4361f-1616-4f49-8770-7eb771e14d46",
   "metadata": {},
   "outputs": [
    {
     "data": {
      "text/markdown": [
       "# Dataset: Kyle/COMMERGE188\n",
       "- Created: 2022-09-11T01:45:03\n",
       "- Tags\n",
       "  - bevined\n",
       "  - mesoplanktonic\n",
       "## Material\n",
       "- Common Name: magnetite\n",
       "- Nominal Molecular Formula: Fe3O4\n",
       "### TEM\n",
       "- Size: 9.62\n",
       "- RSD: 0.15\n",
       "- Shape: tube\n",
       "#### Histogram\n",
       "#### TEM Images\n",
       "| ![COMMERGE188T_30kx_8.png](https://g-446c27.0ed28.75bc.data.globus.org//dev/mock/Kyle/COMMERGE188/COMMERGE188T_30kx_8.png) |  ![COMMERGE188T_30kx_14.png](https://g-446c27.0ed28.75bc.data.globus.org//dev/mock/Kyle/COMMERGE188/COMMERGE188T_30kx_14.png) |   \n",
       "| ![COMMERGE188T_30kx_15.png](https://g-446c27.0ed28.75bc.data.globus.org//dev/mock/Kyle/COMMERGE188/COMMERGE188T_30kx_15.png) |  ![COMMERGE188T_30kx_19.png](https://g-446c27.0ed28.75bc.data.globus.org//dev/mock/Kyle/COMMERGE188/COMMERGE188T_30kx_19.png) |   \n"
      ],
      "text/plain": [
       "<IPython.core.display.Markdown object>"
      ]
     },
     "metadata": {},
     "output_type": "display_data"
    },
    {
     "data": {
      "image/png": "[encoded data removed]",
      "text/plain": [
       "<Figure size 432x288 with 1 Axes>"
      ]
     },
     "metadata": {
      "needs_background": "light"
     },
     "output_type": "display_data"
    }
   ],
   "source": [
    "display_active_dataset()"
   ]
  },
  {
   "cell_type": "code",
   "execution_count": null,
   "id": "7d49a826-30f0-47e4-aabe-b9dcfcb58530",
   "metadata": {},
   "outputs": [],
   "source": []
  }
 ],
 "metadata": {
  "kernelspec": {
   "display_name": "Python 3 (ipykernel)",
   "language": "python",
   "name": "python3"
  },
  "language_info": {
   "codemirror_mode": {
    "name": "ipython",
    "version": 3
   },
   "file_extension": ".py",
   "mimetype": "text/x-python",
   "name": "python",
   "nbconvert_exporter": "python",
   "pygments_lexer": "ipython3",
   "version": "3.10.5"
  }
 },
 "nbformat": 4,
 "nbformat_minor": 5
}
