{
 "cells": [
  {
   "cell_type": "code",
   "execution_count": 1,
   "id": "254cec01-7673-4ed3-b434-34115fd863b6",
   "metadata": {},
   "outputs": [],
   "source": [
    "import dataclasses\n",
    "import serverless_data\n",
    "from IPython.display import display, Markdown"
   ]
  },
  {
   "cell_type": "code",
   "execution_count": 2,
   "id": "ea098ba8-399b-48a7-8ff1-dd81e0cf9dc7",
   "metadata": {},
   "outputs": [],
   "source": [
    "f = serverless_data.DataFile('data/one.txt')\n",
    "g = serverless_data.DataFile('data/two.txt')\n",
    "h = serverless_data.DataFile('data/two.png', url='https://g-e77286.ca528.03c0.data.globus.org/public/unostentation-exhalation.png')\n",
    "i = serverless_data.DataFile('data/three.png', url='https://g-e77286.ca528.03c0.data.globus.org/public/unostentation-exhalation.png')\n",
    "\n",
    "dd = {'name': 'Mock Dataset',\n",
    " 'identifier': 'public/mock',\n",
    " 'creator': 'Rick Wagner',\n",
    " 'publisher': 'UCSD',\n",
    " 'created': '2022-09-14',\n",
    " 'version': '0.1',\n",
    " 'description': 'A few random images as a dataset',\n",
    " 'keywords': ['image', 'random'],\n",
    " 'license': 'CC BY 4.0',\n",
    " 'isPartOf': 'mock',\n",
    " 'tags': ['demo', 'dataset'],\n",
    "      'manifest': [f,g,h]\n",
    "     }\n",
    "\n",
    "d = serverless_data.Dataset(**dd)\n",
    "\n",
    "ed = {'name': 'Terms Mock Dataset',\n",
    " 'identifier': 'allusers/mockterms',\n",
    " 'creator': 'Rick Wagner',\n",
    " 'publisher': 'UCSD',\n",
    " 'created': '2022-09-14',\n",
    " 'version': '0.1',\n",
    " 'description': 'A few random images as a dataset',\n",
    " 'keywords': ['image', 'random'],\n",
    " 'license': 'CC BY 4.0',\n",
    " 'isPartOf': 'mock',\n",
    " 'tags': ['demo', 'dataset'],\n",
    "      'manifest': [f,g,h],\n",
    "      'access_policy': 'terms',\n",
    "      'groupname': 'Serverless Data Users',\n",
    "      'groupuuid': '260da91f-3496-11ed-b941-972795fc9504'\n",
    "     }\n",
    "\n",
    "e = serverless_data.Dataset(**ed)\n",
    "\n",
    "eb = {'name': 'Restricted Mock Dataset',\n",
    " 'identifier': 'restricted/ProjectOne',\n",
    " 'creator': 'Rick Wagner',\n",
    " 'publisher': 'UCSD',\n",
    " 'created': '2022-09-14',\n",
    " 'version': '0.1',\n",
    " 'description': 'A few random images as a dataset',\n",
    " 'keywords': ['image', 'random'],\n",
    " 'license': 'CC BY 4.0',\n",
    " 'isPartOf': 'mock',\n",
    " 'tags': ['demo', 'dataset'],\n",
    "      'manifest': [f,g,h],\n",
    "      'access_policy': 'restricted',\n",
    "      'groupname': 'Serverless Data Project One',\n",
    "      'groupuuid': 'cf9d1f5b-3496-11ed-b941-972795fc9504'\n",
    "     }\n",
    "\n",
    "b = serverless_data.Dataset(**eb)\n",
    "\n",
    "cd = {'name': 'Mock Catalog',\n",
    " 'identifier': 'mock',\n",
    " 'creator': 'Rick Wagner',\n",
    " 'publisher': 'UCSD',\n",
    " 'created': '2022-09-14',\n",
    " 'version': '0.1',\n",
    " 'description': 'A catalog of random images for the Serverless Research Data Repository',\n",
    " 'keywords': ['research', 'data', 'schema.org', 'catalog', 'repository', 'collection'],\n",
    " 'license': 'CC BY 4.0',\n",
    " 'tags': 'demo',\n",
    "     'datasets': [d,e,b]}\n",
    "\n",
    "\n",
    "c = serverless_data.Catalog(**cd)\n"
   ]
  },
  {
   "cell_type": "code",
   "execution_count": 3,
   "id": "f4d736a0-baeb-484a-b854-986114339afe",
   "metadata": {},
   "outputs": [
    {
     "data": {
      "text/markdown": [
       "# Collection: Mock Catalog\n",
       "- Identifier: mock\n",
       "- Creator: Rick Wagner\n",
       "- Publisher: UCSD\n",
       "- Created: 2022-09-14\n",
       "- Version: 0.1\n",
       "- License: CC BY 4.0\n",
       "## Description\n",
       "A catalog of random images for the Serverless Research Data Repository\n",
       "\n",
       "Keywords: research, data, schema.org, catalog, repository, collection\n",
       "# Datasets\n",
       "|                      Name                       |         ID          |  Creator  | Created  |Number of Files|\n",
       "|-------------------------------------------------|---------------------|-----------|----------|--------------:|\n",
       "|[Mock Dataset](public/mock/)                     |public/mock          |Rick Wagner|2022-09-14|              3|\n",
       "|[Terms Mock Dataset](allusers/mockterms/)        |allusers/mockterms   |Rick Wagner|2022-09-14|              3|\n",
       "|[Restricted Mock Dataset](restricted/ProjectOne/)|restricted/ProjectOne|Rick Wagner|2022-09-14|              3|\n"
      ],
      "text/plain": [
       "<IPython.core.display.Markdown object>"
      ]
     },
     "metadata": {},
     "output_type": "display_data"
    }
   ],
   "source": [
    "md = c._as_markdown()\n",
    "display(Markdown(md))"
   ]
  },
  {
   "cell_type": "code",
   "execution_count": 5,
   "id": "4d91e5d3-725d-4c44-9ac6-e7c3ca35b1df",
   "metadata": {},
   "outputs": [
    {
     "data": {
      "text/markdown": [
       "# Dataset: Mock Dataset\n",
       "- Identifier: public/mock\n",
       "- Creator: Rick Wagner\n",
       "- Publisher: UCSD\n",
       "- Created: 2022-09-14\n",
       "- Version: 0.1\n",
       "- License: CC BY 4.0\n",
       "## Description\n",
       "A few random images as a dataset\n",
       "\n",
       "Keywords: image, random\n",
       "## Data Access\n",
       "This dataset is publicy available.\n",
       "This dataset is available via Globus Transfer or HTTPS.\n",
       "[Click here](https://app.globus.org/file-manager?origin_id=6528bad5-bc02-497d-8a4f-a38547d0e72a&origin_path=/serverless/public/mock/) to view the files in the Globus web app.\n",
       "# Files\n",
       "|                                           File Name                                           |Size (Bytes)|   Hash    |\n",
       "|-----------------------------------------------------------------------------------------------|-----------:|-----------|\n",
       "|one.txt                                                                                        |           4|07e41ccb...|\n",
       "|two.txt                                                                                        |           4|9fef2458...|\n",
       "|[data/two.png](https://g-e77286.ca528.03c0.data.globus.org/public/unostentation-exhalation.png)|           0|...        |\n",
       "## Images\n",
       "![data/two.png](https://g-e77286.ca528.03c0.data.globus.org/public/unostentation-exhalation.png) \n",
       "\n",
       "[Back to catalog](../)\n",
       "\n"
      ],
      "text/plain": [
       "<IPython.core.display.Markdown object>"
      ]
     },
     "metadata": {},
     "output_type": "display_data"
    }
   ],
   "source": [
    "mdd = d._as_markdown()\n",
    "display(Markdown(mdd))"
   ]
  },
  {
   "cell_type": "code",
   "execution_count": 6,
   "id": "e4801808-62c2-4300-b8e3-8f6c8e389931",
   "metadata": {},
   "outputs": [
    {
     "data": {
      "text/markdown": [
       "# Collection: Mock Catalog\n",
       "- Identifier: mock\n",
       "- Creator: Rick Wagner\n",
       "- Publisher: UCSD\n",
       "- Created: 2022-09-14\n",
       "- Version: 0.1\n",
       "- License: CC BY 4.0\n",
       "## Description\n",
       "A catalog of random images for the Serverless Research Data Repository\n",
       "\n",
       "Keywords: research, data, schema.org, catalog, repository, collection\n",
       "# Datasets\n",
       "|         Name          |      ID      |  Creator  | Created  |Number of Files|\n",
       "|-----------------------|--------------|-----------|----------|--------------:|\n",
       "|Mock Dataset           |mock          |Rick Wagner|2022-09-14|              3|\n",
       "|Terms Mock Dataset     |mockterms     |Rick Wagner|2022-09-14|              3|\n",
       "|Restricted Mock Dataset|mockrestricted|Rick Wagner|2022-09-14|              3|\n"
      ],
      "text/plain": [
       "<IPython.core.display.Markdown object>"
      ]
     },
     "metadata": {},
     "output_type": "display_data"
    }
   ],
   "source": [
    "md = c._as_markdown()\n",
    "display(Markdown(md))"
   ]
  },
  {
   "cell_type": "code",
   "execution_count": 5,
   "id": "3831dc1c-80a7-4e8e-8cd9-002d46a6789a",
   "metadata": {},
   "outputs": [
    {
     "name": "stdout",
     "output_type": "stream",
     "text": [
      "# Dataset: Mock Dataset\n",
      "- Identifier: mock\n",
      "- Creator: Rick Wagner\n",
      "- Publisher: UCSD\n",
      "- Created: 2022-09-14\n",
      "- Version: 0.1\n",
      "- License: CC BY 4.0\n",
      "## Description\n",
      "A few random images as a dataset\n",
      "\n",
      "Keywords: image, random\n",
      "# Files\n",
      "|                                           File Name                                           |Size (Bytes)|   Hash    |\n",
      "|-----------------------------------------------------------------------------------------------|-----------:|-----------|\n",
      "|one.txt                                                                                        |           4|07e41ccb...|\n",
      "|two.txt                                                                                        |           4|9fef2458...|\n",
      "|[data/two.png](https://g-e77286.ca528.03c0.data.globus.org/public/unostentation-exhalation.png)|           0|...        |\n",
      "## Images\n",
      "! [ d a t a / t w o . p n g ] ( h t t p s : / / g - e 7 7 2 8 6 . c a 5 2 8 . 0 3 c 0 . d a t a . g l o b u s . o r g / p u b l i c / u n o s t e n t a t i o n - e x h a l a t i o n . p n g ) \n",
      "\n",
      "\n"
     ]
    }
   ],
   "source": [
    "print(md)"
   ]
  },
  {
   "cell_type": "code",
   "execution_count": 10,
   "id": "14857737-9bbe-4e5c-b22e-88f698310890",
   "metadata": {},
   "outputs": [
    {
     "data": {
      "text/plain": [
       "'## Datasets'"
      ]
     },
     "execution_count": 10,
     "metadata": {},
     "output_type": "execute_result"
    }
   ],
   "source": [
    "table_name"
   ]
  },
  {
   "cell_type": "code",
   "execution_count": 11,
   "id": "cf72c49b-d3cd-4e25-9e14-628a917b9816",
   "metadata": {},
   "outputs": [
    {
     "data": {
      "text/plain": [
       "['Name', 'ID', 'Creator', 'Created', 'Number of Files']"
      ]
     },
     "execution_count": 11,
     "metadata": {},
     "output_type": "execute_result"
    }
   ],
   "source": [
    "dset_headers"
   ]
  },
  {
   "cell_type": "code",
   "execution_count": 12,
   "id": "61075ab7-4bc9-43f6-8713-7c691a252c6f",
   "metadata": {},
   "outputs": [
    {
     "data": {
      "text/plain": [
       "['Mock Dataset', 'mock', 'Rick Wagner', '2022-09-14', 2]"
      ]
     },
     "execution_count": 12,
     "metadata": {},
     "output_type": "execute_result"
    }
   ],
   "source": [
    "dset_rows"
   ]
  },
  {
   "cell_type": "code",
   "execution_count": 12,
   "id": "61f2a3b5-2831-42c0-9fa4-ba61e10a00b6",
   "metadata": {},
   "outputs": [
    {
     "data": {
      "text/plain": [
       "{'filename': 'one.txt',\n",
       " 'length': 4,\n",
       " 'sha512': '07e41ccb166d21a5327d5a2ae1bb48192b8470e1357266c9d119c294cb1e95978569472c9de64fb6d93cbd4dd0aed0bf1e7c47fd1920de17b038a08a85eb4fa1',\n",
       " 'url': '',\n",
       " 'local_filename': 'data/one.txt'}"
      ]
     },
     "execution_count": 12,
     "metadata": {},
     "output_type": "execute_result"
    }
   ],
   "source": [
    "dataclasses.asdict(f)"
   ]
  },
  {
   "cell_type": "code",
   "execution_count": 9,
   "id": "15daca1a-6552-44e1-93b0-ce968929f958",
   "metadata": {},
   "outputs": [],
   "source": [
    "from pytablewriter import MarkdownTableWriter"
   ]
  },
  {
   "cell_type": "code",
   "execution_count": 10,
   "id": "d0ef6ff0-feac-400a-91ad-d5f208e0de70",
   "metadata": {},
   "outputs": [],
   "source": [
    "def main():\n",
    "    writer = MarkdownTableWriter(\n",
    "        theme='altrow',table_name=\"example_table\",\n",
    "        headers=[\"int\", \"float\", \"str\", \"bool\", \"mix\", \"time\"],\n",
    "        value_matrix=[\n",
    "            [0,   0.1,      \"hoge\", True,   0,      \"2017-01-01 03:04:05+0900\"],\n",
    "            [2,   \"-2.23\",  \"foo\",  False,  None,   \"2017-12-23 45:01:23+0900\"],\n",
    "            [3,   0,        \"bar\",  \"true\",  \"inf\", \"2017-03-03 33:44:55+0900\"],\n",
    "            [-10, -9.9,     \"\",     \"FALSE\", \"nan\", \"2017-01-01 00:00:00+0900\"],\n",
    "        ],\n",
    "    )\n",
    "    return writer"
   ]
  },
  {
   "cell_type": "code",
   "execution_count": 11,
   "id": "27970675-4f25-40b8-8f3d-f431ffb2c95f",
   "metadata": {},
   "outputs": [],
   "source": [
    "a = main()"
   ]
  },
  {
   "cell_type": "code",
   "execution_count": 12,
   "id": "dbdfdf7b-b16b-4bae-8cf4-5b2e74d39c85",
   "metadata": {},
   "outputs": [
    {
     "name": "stdout",
     "output_type": "stream",
     "text": [
      "# example_table\n",
      "\u001b[37m|\u001b[0m\u001b[37mint\u001b[0m\u001b[37m|\u001b[0m\u001b[37mfloat\u001b[0m\u001b[37m|\u001b[0m\u001b[37mstr \u001b[0m\u001b[37m|\u001b[0m\u001b[37mbool \u001b[0m\u001b[37m|\u001b[0m\u001b[37m  mix   \u001b[0m\u001b[37m|\u001b[0m\u001b[37m          time          \u001b[0m\u001b[37m|\u001b[0m\n",
      "|--:|----:|----|-----|-------:|------------------------|\n",
      "\u001b[47m\u001b[30m|\u001b[0m\u001b[47m\u001b[30m  0\u001b[0m\u001b[47m\u001b[30m|\u001b[0m\u001b[47m\u001b[30m 0.10\u001b[0m\u001b[47m\u001b[30m|\u001b[0m\u001b[47m\u001b[30mhoge\u001b[0m\u001b[47m\u001b[30m|\u001b[0m\u001b[47m\u001b[30mTrue \u001b[0m\u001b[47m\u001b[30m|\u001b[0m\u001b[47m\u001b[30m       0\u001b[0m\u001b[47m\u001b[30m|\u001b[0m\u001b[47m\u001b[30m2017-01-01 03:04:05+0900\u001b[0m\u001b[47m\u001b[30m|\u001b[0m\n",
      "\u001b[37m|\u001b[0m\u001b[37m  2\u001b[0m\u001b[37m|\u001b[0m\u001b[37m-2.23\u001b[0m\u001b[37m|\u001b[0m\u001b[37mfoo \u001b[0m\u001b[37m|\u001b[0m\u001b[37mFalse\u001b[0m\u001b[37m|\u001b[0m\u001b[37m        \u001b[0m\u001b[37m|\u001b[0m\u001b[37m2017-12-23 45:01:23+0900\u001b[0m\u001b[37m|\u001b[0m\n",
      "\u001b[47m\u001b[30m|\u001b[0m\u001b[47m\u001b[30m  3\u001b[0m\u001b[47m\u001b[30m|\u001b[0m\u001b[47m\u001b[30m 0.00\u001b[0m\u001b[47m\u001b[30m|\u001b[0m\u001b[47m\u001b[30mbar \u001b[0m\u001b[47m\u001b[30m|\u001b[0m\u001b[47m\u001b[30mTrue \u001b[0m\u001b[47m\u001b[30m|\u001b[0m\u001b[47m\u001b[30mInfinity\u001b[0m\u001b[47m\u001b[30m|\u001b[0m\u001b[47m\u001b[30m2017-03-03 33:44:55+0900\u001b[0m\u001b[47m\u001b[30m|\u001b[0m\n",
      "\u001b[37m|\u001b[0m\u001b[37m-10\u001b[0m\u001b[37m|\u001b[0m\u001b[37m-9.90\u001b[0m\u001b[37m|\u001b[0m\u001b[37m    \u001b[0m\u001b[37m|\u001b[0m\u001b[37mFalse\u001b[0m\u001b[37m|\u001b[0m\u001b[37m     NaN\u001b[0m\u001b[37m|\u001b[0m\u001b[37m2017-01-01 00:00:00+0900\u001b[0m\u001b[37m|\u001b[0m\n"
     ]
    }
   ],
   "source": [
    "a.write_table()"
   ]
  },
  {
   "cell_type": "code",
   "execution_count": 14,
   "id": "dbd593d5-1695-4f8e-be39-636aa18eef0d",
   "metadata": {},
   "outputs": [
    {
     "data": {
      "text/markdown": [
       "# example_table\n",
       "\u001b[37m|\u001b[0m\u001b[37mint\u001b[0m\u001b[37m|\u001b[0m\u001b[37mfloat\u001b[0m\u001b[37m|\u001b[0m\u001b[37mstr \u001b[0m\u001b[37m|\u001b[0m\u001b[37mbool \u001b[0m\u001b[37m|\u001b[0m\u001b[37m  mix   \u001b[0m\u001b[37m|\u001b[0m\u001b[37m          time          \u001b[0m\u001b[37m|\u001b[0m\n",
       "|--:|----:|----|-----|-------:|------------------------|\n",
       "\u001b[47m\u001b[30m|\u001b[0m\u001b[47m\u001b[30m  0\u001b[0m\u001b[47m\u001b[30m|\u001b[0m\u001b[47m\u001b[30m 0.10\u001b[0m\u001b[47m\u001b[30m|\u001b[0m\u001b[47m\u001b[30mhoge\u001b[0m\u001b[47m\u001b[30m|\u001b[0m\u001b[47m\u001b[30mTrue \u001b[0m\u001b[47m\u001b[30m|\u001b[0m\u001b[47m\u001b[30m       0\u001b[0m\u001b[47m\u001b[30m|\u001b[0m\u001b[47m\u001b[30m2017-01-01 03:04:05+0900\u001b[0m\u001b[47m\u001b[30m|\u001b[0m\n",
       "\u001b[37m|\u001b[0m\u001b[37m  2\u001b[0m\u001b[37m|\u001b[0m\u001b[37m-2.23\u001b[0m\u001b[37m|\u001b[0m\u001b[37mfoo \u001b[0m\u001b[37m|\u001b[0m\u001b[37mFalse\u001b[0m\u001b[37m|\u001b[0m\u001b[37m        \u001b[0m\u001b[37m|\u001b[0m\u001b[37m2017-12-23 45:01:23+0900\u001b[0m\u001b[37m|\u001b[0m\n",
       "\u001b[47m\u001b[30m|\u001b[0m\u001b[47m\u001b[30m  3\u001b[0m\u001b[47m\u001b[30m|\u001b[0m\u001b[47m\u001b[30m 0.00\u001b[0m\u001b[47m\u001b[30m|\u001b[0m\u001b[47m\u001b[30mbar \u001b[0m\u001b[47m\u001b[30m|\u001b[0m\u001b[47m\u001b[30mTrue \u001b[0m\u001b[47m\u001b[30m|\u001b[0m\u001b[47m\u001b[30mInfinity\u001b[0m\u001b[47m\u001b[30m|\u001b[0m\u001b[47m\u001b[30m2017-03-03 33:44:55+0900\u001b[0m\u001b[47m\u001b[30m|\u001b[0m\n",
       "\u001b[37m|\u001b[0m\u001b[37m-10\u001b[0m\u001b[37m|\u001b[0m\u001b[37m-9.90\u001b[0m\u001b[37m|\u001b[0m\u001b[37m    \u001b[0m\u001b[37m|\u001b[0m\u001b[37mFalse\u001b[0m\u001b[37m|\u001b[0m\u001b[37m     NaN\u001b[0m\u001b[37m|\u001b[0m\u001b[37m2017-01-01 00:00:00+0900\u001b[0m\u001b[37m|\u001b[0m\n"
      ],
      "text/plain": [
       "<IPython.core.display.Markdown object>"
      ]
     },
     "metadata": {},
     "output_type": "display_data"
    }
   ],
   "source": [
    "display(Markdown(a.dumps()))"
   ]
  },
  {
   "cell_type": "code",
   "execution_count": 15,
   "id": "053b116d-5cfc-4f1f-b4a7-85d2e57d6da7",
   "metadata": {},
   "outputs": [
    {
     "data": {
      "text/plain": [
       "DataFile(filename='one.txt', length=4, sha512='07e41ccb166d21a5327d5a2ae1bb48192b8470e1357266c9d119c294cb1e95978569472c9de64fb6d93cbd4dd0aed0bf1e7c47fd1920de17b038a08a85eb4fa1', url='', local_filename='data/one.txt')"
      ]
     },
     "execution_count": 15,
     "metadata": {},
     "output_type": "execute_result"
    }
   ],
   "source": [
    "f"
   ]
  },
  {
   "cell_type": "code",
   "execution_count": null,
   "id": "ae688209-73db-4836-8308-4cf633b27256",
   "metadata": {},
   "outputs": [],
   "source": []
  }
 ],
 "metadata": {
  "kernelspec": {
   "display_name": "Python 3 (ipykernel)",
   "language": "python",
   "name": "python3"
  },
  "language_info": {
   "codemirror_mode": {
    "name": "ipython",
    "version": 3
   },
   "file_extension": ".py",
   "mimetype": "text/x-python",
   "name": "python",
   "nbconvert_exporter": "python",
   "pygments_lexer": "ipython3",
   "version": "3.10.5"
  }
 },
 "nbformat": 4,
 "nbformat_minor": 5
}
