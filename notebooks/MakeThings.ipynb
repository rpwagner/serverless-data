{
 "cells": [
  {
   "cell_type": "code",
   "execution_count": 1,
   "id": "254cec01-7673-4ed3-b434-34115fd863b6",
   "metadata": {},
   "outputs": [],
   "source": [
    "import dataclasses\n",
    "import serverless_data"
   ]
  },
  {
   "cell_type": "code",
   "execution_count": 20,
   "id": "ea098ba8-399b-48a7-8ff1-dd81e0cf9dc7",
   "metadata": {},
   "outputs": [],
   "source": [
    "f = serverless_data.DataFile('data/one.txt')\n",
    "g = serverless_data.DataFile('data/two.txt')\n",
    "\n",
    "dd = {'name': 'Mock Dataset',\n",
    " 'identifier': 'mock',\n",
    " 'creator': 'Rick Wagner',\n",
    " 'publisher': 'UCSD',\n",
    " 'created': '2022-09-14',\n",
    " 'version': '0.1',\n",
    " 'description': 'A few random images as a dataset',\n",
    " 'keywords': ['image', 'random'],\n",
    " 'license': 'CC BY 4.0',\n",
    " 'isPartOf': 'mock',\n",
    " 'tags': ['demo', 'dataset'],\n",
    "      'manifest': [f,g]\n",
    "     }\n",
    "\n",
    "cd = {'name': 'Mock Catalog',\n",
    " 'identifier': 'mock',\n",
    " 'creator': 'Rick Wagner',\n",
    " 'publisher': 'UCSD',\n",
    " 'created': '2022-09-14',\n",
    " 'version': '0.1',\n",
    " 'description': 'A catalog of random images for the Serverless Research Data Repository',\n",
    " 'keywords': ['research', 'data', 'schema.org', 'catalog', 'repository', 'collection'],\n",
    " 'license': 'CC BY 4.0',\n",
    " 'isPartOf': None,\n",
    " 'tags': 'demo',\n",
    " 'datasets': [dd]}\n",
    "\n",
    "d = serverless_data.Dataset(**dd)\n",
    "c = serverless_data.Catalog(**cd)"
   ]
  },
  {
   "cell_type": "code",
   "execution_count": 22,
   "id": "f4d736a0-baeb-484a-b854-986114339afe",
   "metadata": {},
   "outputs": [
    {
     "data": {
      "text/plain": [
       "[DataFile(filename='one.txt', length=4, sha512='07e41ccb166d21a5327d5a2ae1bb48192b8470e1357266c9d119c294cb1e95978569472c9de64fb6d93cbd4dd0aed0bf1e7c47fd1920de17b038a08a85eb4fa1', url='', local_filename='data/one.txt'),\n",
       " DataFile(filename='two.txt', length=4, sha512='9fef2458ee1a9277925614272adfe60872f4c1bf02eecce7276166957d1ab30f65cf5c8065a294bf1b13e3c3589ba936a3b5db911572e30dfcb200ef71ad33d5', url='', local_filename='data/two.txt')]"
      ]
     },
     "execution_count": 22,
     "metadata": {},
     "output_type": "execute_result"
    }
   ],
   "source": [
    "d.manifest"
   ]
  },
  {
   "cell_type": "code",
   "execution_count": 4,
   "id": "4d91e5d3-725d-4c44-9ac6-e7c3ca35b1df",
   "metadata": {},
   "outputs": [
    {
     "data": {
      "text/plain": [
       "{'name': 'Mock Catalog',\n",
       " 'identifier': 'mock',\n",
       " 'creator': 'Rick Wagner',\n",
       " 'publisher': 'UCSD',\n",
       " 'created': '2022-09-14',\n",
       " 'version': '0.1',\n",
       " 'description': 'A catalog of random images for the Serverless Research Data Repository',\n",
       " 'keywords': ['research',\n",
       "  'data',\n",
       "  'schema.org',\n",
       "  'catalog',\n",
       "  'repository',\n",
       "  'collection'],\n",
       " 'license': 'CC BY 4.0',\n",
       " 'isPartOf': None,\n",
       " 'resourceTypeGeneral': 'Collection',\n",
       " 'tags': 'demo',\n",
       " 'datasets': None}"
      ]
     },
     "execution_count": 4,
     "metadata": {},
     "output_type": "execute_result"
    }
   ],
   "source": []
  },
  {
   "cell_type": "code",
   "execution_count": 5,
   "id": "e4801808-62c2-4300-b8e3-8f6c8e389931",
   "metadata": {},
   "outputs": [
    {
     "data": {
      "text/plain": [
       "{'name': 'Mock Catalog',\n",
       " 'publisher': 'UCSD',\n",
       " 'version': '0.1',\n",
       " 'description': 'A catalog of random images for the Serverless Research Data Repository',\n",
       " 'keywords': ['research',\n",
       "  'data',\n",
       "  'schema.org',\n",
       "  'catalog',\n",
       "  'repository',\n",
       "  'collection'],\n",
       " 'license': 'CC BY 4.0',\n",
       " 'isPartOf': None,\n",
       " '@type': 'Collection',\n",
       " '@id': 'mock',\n",
       " 'author': 'Rick Wagner',\n",
       " 'datePublished': '2022-09-14'}"
      ]
     },
     "execution_count": 5,
     "metadata": {},
     "output_type": "execute_result"
    }
   ],
   "source": [
    "c._as_schema_org()"
   ]
  },
  {
   "cell_type": "code",
   "execution_count": 6,
   "id": "3831dc1c-80a7-4e8e-8cd9-002d46a6789a",
   "metadata": {},
   "outputs": [],
   "source": [
    "d = serverless_data.Dataset(**dd)"
   ]
  },
  {
   "cell_type": "code",
   "execution_count": 7,
   "id": "14857737-9bbe-4e5c-b22e-88f698310890",
   "metadata": {},
   "outputs": [
    {
     "data": {
      "text/plain": [
       "{'name': 'Mock Dataset',\n",
       " 'identifier': 'mock',\n",
       " 'creator': 'Rick Wagner',\n",
       " 'publisher': 'UCSD',\n",
       " 'created': '2022-09-14',\n",
       " 'version': '0.1',\n",
       " 'description': 'A few random images as a dataset',\n",
       " 'keywords': ['image', 'random'],\n",
       " 'license': 'CC BY 4.0',\n",
       " 'isPartOf': 'mock',\n",
       " 'resourceTypeGeneral': 'Dataset',\n",
       " 'tags': ['demo', 'dataset'],\n",
       " 'manifest': None,\n",
       " 'subject': ''}"
      ]
     },
     "execution_count": 7,
     "metadata": {},
     "output_type": "execute_result"
    }
   ],
   "source": [
    "dataclasses.asdict(d)"
   ]
  },
  {
   "cell_type": "code",
   "execution_count": 8,
   "id": "cf72c49b-d3cd-4e25-9e14-628a917b9816",
   "metadata": {},
   "outputs": [
    {
     "data": {
      "text/plain": [
       "{'name': 'Mock Dataset',\n",
       " 'publisher': 'UCSD',\n",
       " 'version': '0.1',\n",
       " 'description': 'A few random images as a dataset',\n",
       " 'keywords': ['image', 'random'],\n",
       " 'license': 'CC BY 4.0',\n",
       " 'isPartOf': 'mock',\n",
       " '@type': 'Dataset',\n",
       " '@id': 'mock',\n",
       " 'author': 'Rick Wagner',\n",
       " 'datePublished': '2022-09-14'}"
      ]
     },
     "execution_count": 8,
     "metadata": {},
     "output_type": "execute_result"
    }
   ],
   "source": [
    "d._as_schema_org()"
   ]
  },
  {
   "cell_type": "code",
   "execution_count": 11,
   "id": "61075ab7-4bc9-43f6-8713-7c691a252c6f",
   "metadata": {},
   "outputs": [],
   "source": []
  },
  {
   "cell_type": "code",
   "execution_count": 12,
   "id": "61f2a3b5-2831-42c0-9fa4-ba61e10a00b6",
   "metadata": {},
   "outputs": [
    {
     "data": {
      "text/plain": [
       "{'filename': 'one.txt',\n",
       " 'length': 4,\n",
       " 'sha512': '07e41ccb166d21a5327d5a2ae1bb48192b8470e1357266c9d119c294cb1e95978569472c9de64fb6d93cbd4dd0aed0bf1e7c47fd1920de17b038a08a85eb4fa1',\n",
       " 'url': '',\n",
       " 'local_filename': 'data/one.txt'}"
      ]
     },
     "execution_count": 12,
     "metadata": {},
     "output_type": "execute_result"
    }
   ],
   "source": [
    "dataclasses.asdict(f)"
   ]
  },
  {
   "cell_type": "code",
   "execution_count": null,
   "id": "15daca1a-6552-44e1-93b0-ce968929f958",
   "metadata": {},
   "outputs": [],
   "source": []
  }
 ],
 "metadata": {
  "kernelspec": {
   "display_name": "Python 3 (ipykernel)",
   "language": "python",
   "name": "python3"
  },
  "language_info": {
   "codemirror_mode": {
    "name": "ipython",
    "version": 3
   },
   "file_extension": ".py",
   "mimetype": "text/x-python",
   "name": "python",
   "nbconvert_exporter": "python",
   "pygments_lexer": "ipython3",
   "version": "3.10.5"
  }
 },
 "nbformat": 4,
 "nbformat_minor": 5
}
